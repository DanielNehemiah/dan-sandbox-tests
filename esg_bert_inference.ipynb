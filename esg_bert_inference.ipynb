{
 "cells": [
  {
   "cell_type": "code",
   "execution_count": 1,
   "id": "38081cdb-bf24-407c-9f33-296458cc7147",
   "metadata": {
    "tags": []
   },
   "outputs": [],
   "source": [
    "id2label= {\n",
    "    \"0\": \"Business_Ethics\",\n",
    "    \"1\": \"Data_Security\",\n",
    "    \"2\": \"Access_And_Affordability\",\n",
    "    \"3\": \"Business_Model_Resilience\",\n",
    "    \"4\": \"Competitive_Behavior\",\n",
    "    \"5\": \"Critical_Incident_Risk_Management\",\n",
    "    \"6\": \"Customer_Welfare\",\n",
    "    \"7\": \"Director_Removal\",\n",
    "    \"8\": \"Employee_Engagement_Inclusion_And_Diversity\",\n",
    "    \"9\": \"Employee_Health_And_Safety\",\n",
    "    \"10\": \"Human_Rights_And_Community_Relations\",\n",
    "    \"11\": \"Labor_Practices\",\n",
    "    \"12\": \"Management_Of_Legal_And_Regulatory_Framework\",\n",
    "    \"13\": \"Physical_Impacts_Of_Climate_Change\",\n",
    "    \"14\": \"Product_Quality_And_Safety\",\n",
    "    \"15\": \"Product_Design_And_Lifecycle_Management\",\n",
    "    \"16\": \"Selling_Practices_And_Product_Labeling\",\n",
    "    \"17\": \"Supply_Chain_Management\",\n",
    "    \"18\": \"Systemic_Risk_Management\",\n",
    "    \"19\": \"Waste_And_Hazardous_Materials_Management\",\n",
    "    \"20\": \"Water_And_Wastewater_Management\",\n",
    "    \"21\": \"Air_Quality\",\n",
    "    \"22\": \"Customer_Privacy\",\n",
    "    \"23\": \"Ecological_Impacts\",\n",
    "    \"24\": \"Energy_Management\",\n",
    "    \"25\": \"GHG_Emissions\"\n",
    "  }"
   ]
  },
  {
   "cell_type": "code",
   "execution_count": 2,
   "id": "1c5fcd8f-0859-4a5d-99cf-c7fc1398ebc8",
   "metadata": {
    "tags": []
   },
   "outputs": [],
   "source": [
    "text = \"\"\"\n",
    "In fiscal year 2019, we reduced our comprehensive carbon footprint for the fourth\n",
    "consecutive year—down 35 percent compared to 2015, when Apple’s carbon emissions\n",
    "peaked, even as net revenue increased by 11 percent over that same period. In the past\n",
    "year, we avoided over 10 million metric tons from our emissions reduction initiatives—like\n",
    "our Supplier Clean Energy Program, which lowered our footprint by 4.4 million metric tons. \n",
    "\"\"\"\n",
    "text = text.encode('utf-8').decode('utf-8')"
   ]
  },
  {
   "cell_type": "code",
   "execution_count": 3,
   "id": "a523302e-9989-4f0a-a4ca-cb8332cc64b9",
   "metadata": {
    "tags": []
   },
   "outputs": [],
   "source": [
    "text = \"\"\"\n",
    "We believe it is essential to establish validated conflict-free sources of 3TG within the Democratic Republic of the Congo (the “DRC”) and adjoining countries (together, with the DRC, the “Covered Countries”), so that these minerals can be procured in a way that contributes to economic growth and development in the region. To aid in this effort, we have established a conflict minerals policy and an internal team to implement the policy.\n",
    "\"\"\"\n",
    "text = text.encode('utf-8').decode('utf-8')"
   ]
  },
  {
   "cell_type": "code",
   "execution_count": 4,
   "id": "63df5731-c459-4fb5-8f4c-f29d3d96e468",
   "metadata": {
    "tags": []
   },
   "outputs": [
    {
     "name": "stderr",
     "output_type": "stream",
     "text": [
      "/home/ubuntu/dan/d_env/lib/python3.10/site-packages/tqdm/auto.py:21: TqdmWarning: IProgress not found. Please update jupyter and ipywidgets. See https://ipywidgets.readthedocs.io/en/stable/user_install.html\n",
      "  from .autonotebook import tqdm as notebook_tqdm\n"
     ]
    },
    {
     "data": {
      "text/plain": [
       "BertForSequenceClassification(\n",
       "  (bert): BertModel(\n",
       "    (embeddings): BertEmbeddings(\n",
       "      (word_embeddings): Embedding(30522, 768, padding_idx=0)\n",
       "      (position_embeddings): Embedding(512, 768)\n",
       "      (token_type_embeddings): Embedding(2, 768)\n",
       "      (LayerNorm): LayerNorm((768,), eps=1e-12, elementwise_affine=True)\n",
       "      (dropout): Dropout(p=0.1, inplace=False)\n",
       "    )\n",
       "    (encoder): BertEncoder(\n",
       "      (layer): ModuleList(\n",
       "        (0-11): 12 x BertLayer(\n",
       "          (attention): BertAttention(\n",
       "            (self): BertSelfAttention(\n",
       "              (query): Linear(in_features=768, out_features=768, bias=True)\n",
       "              (key): Linear(in_features=768, out_features=768, bias=True)\n",
       "              (value): Linear(in_features=768, out_features=768, bias=True)\n",
       "              (dropout): Dropout(p=0.1, inplace=False)\n",
       "            )\n",
       "            (output): BertSelfOutput(\n",
       "              (dense): Linear(in_features=768, out_features=768, bias=True)\n",
       "              (LayerNorm): LayerNorm((768,), eps=1e-12, elementwise_affine=True)\n",
       "              (dropout): Dropout(p=0.1, inplace=False)\n",
       "            )\n",
       "          )\n",
       "          (intermediate): BertIntermediate(\n",
       "            (dense): Linear(in_features=768, out_features=3072, bias=True)\n",
       "            (intermediate_act_fn): GELUActivation()\n",
       "          )\n",
       "          (output): BertOutput(\n",
       "            (dense): Linear(in_features=3072, out_features=768, bias=True)\n",
       "            (LayerNorm): LayerNorm((768,), eps=1e-12, elementwise_affine=True)\n",
       "            (dropout): Dropout(p=0.1, inplace=False)\n",
       "          )\n",
       "        )\n",
       "      )\n",
       "    )\n",
       "    (pooler): BertPooler(\n",
       "      (dense): Linear(in_features=768, out_features=768, bias=True)\n",
       "      (activation): Tanh()\n",
       "    )\n",
       "  )\n",
       "  (dropout): Dropout(p=0.1, inplace=False)\n",
       "  (classifier): Linear(in_features=768, out_features=26, bias=True)\n",
       ")"
      ]
     },
     "execution_count": 4,
     "metadata": {},
     "output_type": "execute_result"
    }
   ],
   "source": [
    "from transformers import AutoTokenizer, AutoModelForSequenceClassification\n",
    "import torch\n",
    "device = torch.device(0)\n",
    "\n",
    "tokenizer = AutoTokenizer.from_pretrained(\"nbroad/ESG-BERT\")\n",
    "\n",
    "model = AutoModelForSequenceClassification.from_pretrained(\"nbroad/ESG-BERT\")\n",
    "model.to(device)\n",
    "model.eval()"
   ]
  },
  {
   "cell_type": "code",
   "execution_count": 5,
   "id": "d1a3651d-6ba3-4fcf-af5a-afd91ed6cffa",
   "metadata": {
    "tags": []
   },
   "outputs": [
    {
     "name": "stdout",
     "output_type": "stream",
     "text": [
      "Business_Ethics: -7.4%\n",
      "Data_Security: -2.19%\n",
      "Access_And_Affordability: -68.79%\n",
      "Business_Model_Resilience: 50.76%\n",
      "Competitive_Behavior: 4.02%\n",
      "Critical_Incident_Risk_Management: -10.99%\n",
      "Customer_Welfare: -27.46%\n",
      "Director_Removal: -98.14%\n",
      "Employee_Engagement_Inclusion_And_Diversity: -59.38%\n",
      "Employee_Health_And_Safety: 42.28%\n",
      "Human_Rights_And_Community_Relations: 118.04%\n",
      "Labor_Practices: -77.75%\n",
      "Management_Of_Legal_And_Regulatory_Framework: -42.07%\n",
      "Physical_Impacts_Of_Climate_Change: 137.53%\n",
      "Product_Quality_And_Safety: -102.64%\n",
      "Product_Design_And_Lifecycle_Management: -85.55%\n",
      "Selling_Practices_And_Product_Labeling: -66.49%\n",
      "Supply_Chain_Management: 340.36%\n",
      "Systemic_Risk_Management: 33.53%\n",
      "Waste_And_Hazardous_Materials_Management: 33.94%\n",
      "Water_And_Wastewater_Management: -8.61%\n",
      "Air_Quality: -52.18%\n",
      "Customer_Privacy: -73.5%\n",
      "Ecological_Impacts: 62.81%\n",
      "Energy_Management: -102.83%\n",
      "GHG_Emissions: 108.14%\n"
     ]
    }
   ],
   "source": [
    "inputs = tokenizer.encode_plus(\n",
    "            text,\n",
    "            add_special_tokens=True,\n",
    "            return_tensors=\"pt\"\n",
    "        )\n",
    "\n",
    "prediction = model(\n",
    "            inputs['input_ids'].to(device), \n",
    "            token_type_ids=inputs['token_type_ids'].to(device)\n",
    "        )[0]\n",
    "\n",
    "for idx, item in enumerate(prediction[0]):\n",
    "    print(id2label[str(idx)]+\":\", str(round(item.item()*100,2))+\"%\")"
   ]
  }
 ],
 "metadata": {
  "kernelspec": {
   "display_name": "d_env_kernel",
   "language": "python",
   "name": "d_env_kernel"
  },
  "language_info": {
   "codemirror_mode": {
    "name": "ipython",
    "version": 3
   },
   "file_extension": ".py",
   "mimetype": "text/x-python",
   "name": "python",
   "nbconvert_exporter": "python",
   "pygments_lexer": "ipython3",
   "version": "3.10.6"
  }
 },
 "nbformat": 4,
 "nbformat_minor": 5
}
